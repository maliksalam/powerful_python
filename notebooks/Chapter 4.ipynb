{
 "cells": [
  {
   "cell_type": "markdown",
   "metadata": {},
   "source": [
    "# Advanced Functions"
   ]
  },
  {
   "cell_type": "markdown",
   "metadata": {},
   "source": [
    "## Accepting & Passing Variable Arguments"
   ]
  },
  {
   "cell_type": "code",
   "execution_count": 13,
   "metadata": {},
   "outputs": [],
   "source": [
    "def takes_any_args(*args):\n",
    "    print('Type of args: ' + str(type(args)))\n",
    "    print('Value of args: '+ str(args))"
   ]
  },
  {
   "cell_type": "code",
   "execution_count": 7,
   "metadata": {},
   "outputs": [
    {
     "name": "stdout",
     "output_type": "stream",
     "text": [
      "Type of args: <class 'tuple'>\n",
      "Value of args: (12, 13, 'daada')\n"
     ]
    }
   ],
   "source": [
    "takes_any_args(12, 13, 'daada', )"
   ]
  },
  {
   "cell_type": "code",
   "execution_count": 11,
   "metadata": {},
   "outputs": [],
   "source": [
    "def takes_a_list(items):\n",
    "    print('Type of args: ' + str(type(items)))\n",
    "    print('Value of args: '+ str(items))"
   ]
  },
  {
   "cell_type": "code",
   "execution_count": 12,
   "metadata": {},
   "outputs": [
    {
     "name": "stdout",
     "output_type": "stream",
     "text": [
      "Type of args: <class 'list'>\n",
      "Value of args: ['x', 'y', 'z']\n"
     ]
    }
   ],
   "source": [
    "takes_a_list(['x', 'y', 'z'])"
   ]
  },
  {
   "cell_type": "code",
   "execution_count": 14,
   "metadata": {},
   "outputs": [],
   "source": [
    "def read_files(*paths):\n",
    "    data = \"\"\n",
    "    for path in paths:\n",
    "        with open(path) as handle:\n",
    "            data += handle.read()\n",
    "    return data"
   ]
  },
  {
   "cell_type": "code",
   "execution_count": 16,
   "metadata": {},
   "outputs": [
    {
     "data": {
      "text/plain": [
       "\"address: 1423 99th Ave\\nsquare_feet: 1705\\nprice_usd: 340210\\n\\naddress: 24257 Pueblo Dr\\nsquare_feet: 2305\\nprice_usd: 170210\\n\\naddress: 127 Cochran\\nsquare_feet: 2068\\nprice_usd: 320500\\ncolor: blueWARNING: Disk usage exceeding 85%\\nDEBUG: User 'tinytim' upgraded to Pro version\\nINFO: Sent email campaign, completed normally\\nWARNING: Almost out of beer\""
      ]
     },
     "execution_count": 16,
     "metadata": {},
     "output_type": "execute_result"
    }
   ],
   "source": [
    "read_files('../chapter 2/housedata.txt', '../chapter 2/log.txt')"
   ]
  },
  {
   "cell_type": "markdown",
   "metadata": {},
   "source": [
    "**Argument Unpacking**"
   ]
  },
  {
   "cell_type": "code",
   "execution_count": 104,
   "metadata": {},
   "outputs": [],
   "source": [
    "def normal_function(a, b, c):\n",
    "    print(\"a: {} b: {} c: {}\".format(a, b, c))\n",
    "\n",
    "numbers = (7, 5, 3)"
   ]
  },
  {
   "cell_type": "code",
   "execution_count": 105,
   "metadata": {},
   "outputs": [
    {
     "name": "stdout",
     "output_type": "stream",
     "text": [
      "a: 7 b: 5 c: 3\n"
     ]
    }
   ],
   "source": [
    "normal_function(*numbers)"
   ]
  },
  {
   "cell_type": "code",
   "execution_count": 28,
   "metadata": {},
   "outputs": [
    {
     "name": "stdout",
     "output_type": "stream",
     "text": [
      "a: 7 b: 5 c: 3\n"
     ]
    }
   ],
   "source": [
    "a, b, c = numbers\n",
    "normal_function(a, b, c)"
   ]
  },
  {
   "cell_type": "markdown",
   "metadata": {},
   "source": [
    "**Variable Keyword Arguments**"
   ]
  },
  {
   "cell_type": "code",
   "execution_count": 102,
   "metadata": {},
   "outputs": [
    {
     "data": {
      "text/plain": [
       "{'verbosity': 3, 'theme': 'Blue Steel', 'bass': 11}"
      ]
     },
     "execution_count": 102,
     "metadata": {},
     "output_type": "execute_result"
    }
   ],
   "source": [
    "def set_config_defaults(config, **kwargs):\n",
    "    for key, value in kwargs.items():\n",
    "        if key not in config:\n",
    "            config[key] = value\n",
    "config = {'verbosity': 3, 'theme': 'Blue Steel'}\n",
    "set_config_defaults(config, bass=11, verbosity=2)\n",
    "config"
   ]
  },
  {
   "cell_type": "markdown",
   "metadata": {},
   "source": [
    "**Keyword Unpacking**"
   ]
  },
  {
   "cell_type": "code",
   "execution_count": 106,
   "metadata": {},
   "outputs": [
    {
     "name": "stdout",
     "output_type": "stream",
     "text": [
      "a: 7 b: 5 c: 3\n"
     ]
    }
   ],
   "source": [
    "num_dict = {'a': 7, 'b': 5, 'c': 3}\n",
    "normal_function(**num_dict)"
   ]
  },
  {
   "cell_type": "code",
   "execution_count": 107,
   "metadata": {},
   "outputs": [
    {
     "name": "stdout",
     "output_type": "stream",
     "text": [
      "a: 7 b: 5 c: 3\n"
     ]
    }
   ],
   "source": [
    "normal_function(*numbers)"
   ]
  },
  {
   "cell_type": "code",
   "execution_count": 109,
   "metadata": {},
   "outputs": [
    {
     "ename": "TypeError",
     "evalue": "normal_function() got an unexpected keyword argument 'z'",
     "output_type": "error",
     "traceback": [
      "\u001b[0;31m---------------------------------------------------------------------------\u001b[0m",
      "\u001b[0;31mTypeError\u001b[0m                                 Traceback (most recent call last)",
      "\u001b[0;32m<ipython-input-109-3ede9569aad2>\u001b[0m in \u001b[0;36m<module>\u001b[0;34m\u001b[0m\n\u001b[1;32m      1\u001b[0m \u001b[0mbad_nums\u001b[0m \u001b[0;34m=\u001b[0m \u001b[0;34m{\u001b[0m\u001b[0;34m'a'\u001b[0m\u001b[0;34m:\u001b[0m \u001b[0;36m7\u001b[0m\u001b[0;34m,\u001b[0m \u001b[0;34m'b'\u001b[0m\u001b[0;34m:\u001b[0m \u001b[0;36m5\u001b[0m\u001b[0;34m,\u001b[0m \u001b[0;34m'z'\u001b[0m\u001b[0;34m:\u001b[0m \u001b[0;36m3\u001b[0m\u001b[0;34m}\u001b[0m\u001b[0;34m\u001b[0m\u001b[0;34m\u001b[0m\u001b[0m\n\u001b[0;32m----> 2\u001b[0;31m \u001b[0mnormal_function\u001b[0m\u001b[0;34m(\u001b[0m\u001b[0;34m**\u001b[0m\u001b[0mbad_nums\u001b[0m\u001b[0;34m)\u001b[0m\u001b[0;34m\u001b[0m\u001b[0;34m\u001b[0m\u001b[0m\n\u001b[0m",
      "\u001b[0;31mTypeError\u001b[0m: normal_function() got an unexpected keyword argument 'z'"
     ]
    }
   ],
   "source": [
    "bad_nums = {'a': 7, 'b': 5, 'z': 3}\n",
    "normal_function(**bad_nums)"
   ]
  },
  {
   "cell_type": "code",
   "execution_count": 112,
   "metadata": {},
   "outputs": [],
   "source": [
    "def another_function(x, y, z=2):\n",
    "    print(\"x: {} y: {} z: {}\".format(x, y, z))\n",
    "    \n",
    "all_numbers = {'x': 2, 'y': 7, 'z': 10}\n",
    "some_numbers = {'x': 2, 'y': 7}\n",
    "missing_numbers = {'x': 2}"
   ]
  },
  {
   "cell_type": "code",
   "execution_count": 113,
   "metadata": {},
   "outputs": [
    {
     "name": "stdout",
     "output_type": "stream",
     "text": [
      "x: 2 y: 7 z: 10\n"
     ]
    }
   ],
   "source": [
    "another_function(**all_numbers)"
   ]
  },
  {
   "cell_type": "code",
   "execution_count": 114,
   "metadata": {},
   "outputs": [
    {
     "name": "stdout",
     "output_type": "stream",
     "text": [
      "x: 2 y: 7 z: 2\n"
     ]
    }
   ],
   "source": [
    "another_function(**some_numbers)"
   ]
  },
  {
   "cell_type": "code",
   "execution_count": 115,
   "metadata": {},
   "outputs": [
    {
     "ename": "TypeError",
     "evalue": "another_function() missing 1 required positional argument: 'y'",
     "output_type": "error",
     "traceback": [
      "\u001b[0;31m---------------------------------------------------------------------------\u001b[0m",
      "\u001b[0;31mTypeError\u001b[0m                                 Traceback (most recent call last)",
      "\u001b[0;32m<ipython-input-115-0cb3c03159e0>\u001b[0m in \u001b[0;36m<module>\u001b[0;34m\u001b[0m\n\u001b[0;32m----> 1\u001b[0;31m \u001b[0manother_function\u001b[0m\u001b[0;34m(\u001b[0m\u001b[0;34m**\u001b[0m\u001b[0mmissing_numbers\u001b[0m\u001b[0;34m)\u001b[0m\u001b[0;34m\u001b[0m\u001b[0;34m\u001b[0m\u001b[0m\n\u001b[0m",
      "\u001b[0;31mTypeError\u001b[0m: another_function() missing 1 required positional argument: 'y'"
     ]
    }
   ],
   "source": [
    "another_function(**missing_numbers)"
   ]
  },
  {
   "cell_type": "markdown",
   "metadata": {},
   "source": [
    "**Combining Positional and Keyword Arguments**"
   ]
  },
  {
   "cell_type": "code",
   "execution_count": 116,
   "metadata": {},
   "outputs": [
    {
     "name": "stdout",
     "output_type": "stream",
     "text": [
      "foo\n",
      "bar\n",
      "x -> 7\n",
      "y -> 33\n"
     ]
    }
   ],
   "source": [
    "def general_function(*args, **kwargs):\n",
    "    for arg in args:\n",
    "        print(arg)\n",
    "    for key, value in kwargs.items():\n",
    "        print(\"{} -> {}\".format(key, value))\n",
    "general_function(\"foo\", \"bar\", x=7, y=33)"
   ]
  },
  {
   "cell_type": "code",
   "execution_count": 117,
   "metadata": {},
   "outputs": [
    {
     "name": "stdout",
     "output_type": "stream",
     "text": [
      "7\n",
      "5\n",
      "3\n",
      "a -> 7\n",
      "b -> 5\n",
      "c -> 3\n"
     ]
    }
   ],
   "source": [
    "general_function(*numbers, **num_dict)"
   ]
  },
  {
   "cell_type": "code",
   "execution_count": 118,
   "metadata": {},
   "outputs": [],
   "source": [
    "general_function()"
   ]
  },
  {
   "cell_type": "code",
   "execution_count": 120,
   "metadata": {},
   "outputs": [
    {
     "data": {
      "text/plain": [
       "15"
      ]
     },
     "execution_count": 120,
     "metadata": {},
     "output_type": "execute_result"
    }
   ],
   "source": [
    "def addup(a, b, c=1, d=2, e=3):\n",
    "    return a + b + c + d + e\n",
    "nums = (3, 4)\n",
    "extras = {'d': 5, 'e': 2}\n",
    "addup(*nums, **extras)"
   ]
  },
  {
   "cell_type": "code",
   "execution_count": 122,
   "metadata": {},
   "outputs": [
    {
     "data": {
      "text/plain": [
       "13"
      ]
     },
     "execution_count": 122,
     "metadata": {},
     "output_type": "execute_result"
    }
   ],
   "source": [
    "addup(*nums)"
   ]
  },
  {
   "cell_type": "code",
   "execution_count": 138,
   "metadata": {},
   "outputs": [],
   "source": [
    "def combined1(a, b, *args): pass\n",
    "def combined2(x, y, z, **kwargs): pass\n",
    "def combined3(*args, **kwargs): pass\n",
    "def combined4(x, *args): pass\n",
    "def combined5(u, v, w, *args, **kwargs): pass\n",
    "def combined6(*args, x, y): pass"
   ]
  },
  {
   "cell_type": "code",
   "execution_count": 139,
   "metadata": {},
   "outputs": [
    {
     "ename": "SyntaxError",
     "evalue": "invalid syntax (<ipython-input-139-123d0aa96e12>, line 1)",
     "output_type": "error",
     "traceback": [
      "\u001b[0;36m  File \u001b[0;32m\"<ipython-input-139-123d0aa96e12>\"\u001b[0;36m, line \u001b[0;32m1\u001b[0m\n\u001b[0;31m    def bed_combo(**kwargs, *args): pass\u001b[0m\n\u001b[0m                            ^\u001b[0m\n\u001b[0;31mSyntaxError\u001b[0m\u001b[0;31m:\u001b[0m invalid syntax\n"
     ]
    }
   ],
   "source": [
    "def bed_combo(**kwargs, *args): pass"
   ]
  },
  {
   "cell_type": "markdown",
   "metadata": {},
   "source": [
    "## Functions As Objects"
   ]
  },
  {
   "cell_type": "code",
   "execution_count": 141,
   "metadata": {},
   "outputs": [
    {
     "data": {
      "text/plain": [
       "'7'"
      ]
     },
     "execution_count": 141,
     "metadata": {},
     "output_type": "execute_result"
    }
   ],
   "source": [
    "nums = ['12', '7', '30', '14', '3']\n",
    "max(nums)"
   ]
  },
  {
   "cell_type": "code",
   "execution_count": 142,
   "metadata": {},
   "outputs": [
    {
     "data": {
      "text/plain": [
       "30"
      ]
     },
     "execution_count": 142,
     "metadata": {},
     "output_type": "execute_result"
    }
   ],
   "source": [
    "max([int(num) for num in nums])"
   ]
  },
  {
   "cell_type": "code",
   "execution_count": 143,
   "metadata": {},
   "outputs": [
    {
     "data": {
      "text/plain": [
       "'30'"
      ]
     },
     "execution_count": 143,
     "metadata": {},
     "output_type": "execute_result"
    }
   ],
   "source": [
    "def max_by_int_value(items):\n",
    "    biggest = items[0]\n",
    "    for item in items[1:]:\n",
    "        if int(item) > int(biggest):\n",
    "            biggest = item\n",
    "    return biggest\n",
    "max_by_int_value(nums)"
   ]
  },
  {
   "cell_type": "code",
   "execution_count": 144,
   "metadata": {},
   "outputs": [
    {
     "data": {
      "text/plain": [
       "7"
      ]
     },
     "execution_count": 144,
     "metadata": {},
     "output_type": "execute_result"
    }
   ],
   "source": [
    "integers = [3, -2, 7, -1, -20]\n",
    "max(integers)"
   ]
  },
  {
   "cell_type": "code",
   "execution_count": 147,
   "metadata": {},
   "outputs": [
    {
     "data": {
      "text/plain": [
       "-20"
      ]
     },
     "execution_count": 147,
     "metadata": {},
     "output_type": "execute_result"
    }
   ],
   "source": [
    "def max_by_abs(items):\n",
    "    biggest = items[0]\n",
    "    for item in items[1:]:\n",
    "        if abs(item) > abs(biggest):\n",
    "            biggest = item\n",
    "    return biggest\n",
    "max_by_abs(integers)"
   ]
  },
  {
   "cell_type": "code",
   "execution_count": 148,
   "metadata": {},
   "outputs": [],
   "source": [
    "student_joe = {'gpa': '3.7', 'major': 'physics', 'name': 'Joe Smith'}\n",
    "student_jane = {'gpa': '3.8', 'major': 'chemistry', 'name': 'Jane Jones'}\n",
    "student_zoe = {'gpa': '3.4', 'major': 'literature', 'name': 'Zoe Fox'}\n",
    "students = [student_joe, student_jane, student_zoe]"
   ]
  },
  {
   "cell_type": "code",
   "execution_count": 152,
   "metadata": {},
   "outputs": [
    {
     "data": {
      "text/plain": [
       "3.8"
      ]
     },
     "execution_count": 152,
     "metadata": {},
     "output_type": "execute_result"
    }
   ],
   "source": [
    "max([float(s['gpa']) for s in students])"
   ]
  },
  {
   "cell_type": "code",
   "execution_count": 153,
   "metadata": {},
   "outputs": [
    {
     "data": {
      "text/plain": [
       "{'gpa': '3.8', 'major': 'chemistry', 'name': 'Jane Jones'}"
      ]
     },
     "execution_count": 153,
     "metadata": {},
     "output_type": "execute_result"
    }
   ],
   "source": [
    "def max_by_gpa(items):\n",
    "    biggest = items[0]\n",
    "    for item in items[1:]:\n",
    "        if item['gpa'] > biggest['gpa']:\n",
    "            biggest = item\n",
    "    return biggest\n",
    "max_by_gpa(students)"
   ]
  },
  {
   "cell_type": "code",
   "execution_count": 157,
   "metadata": {},
   "outputs": [
    {
     "data": {
      "text/plain": [
       "'30'"
      ]
     },
     "execution_count": 157,
     "metadata": {},
     "output_type": "execute_result"
    }
   ],
   "source": [
    "def max_by_key(items, key):\n",
    "    biggest = items[0]\n",
    "    for item in items[1:]:\n",
    "        if key(item) > key(biggest):\n",
    "            biggest = item\n",
    "    return biggest\n",
    "max_by_key(nums, int)"
   ]
  },
  {
   "cell_type": "code",
   "execution_count": 158,
   "metadata": {},
   "outputs": [
    {
     "data": {
      "text/plain": [
       "-20"
      ]
     },
     "execution_count": 158,
     "metadata": {},
     "output_type": "execute_result"
    }
   ],
   "source": [
    "max_by_key(integers, abs)"
   ]
  },
  {
   "cell_type": "code",
   "execution_count": 160,
   "metadata": {},
   "outputs": [
    {
     "data": {
      "text/plain": [
       "{'gpa': '3.8', 'major': 'chemistry', 'name': 'Jane Jones'}"
      ]
     },
     "execution_count": 160,
     "metadata": {},
     "output_type": "execute_result"
    }
   ],
   "source": [
    "max_by_key(students, lambda x: x['gpa'])"
   ]
  },
  {
   "cell_type": "code",
   "execution_count": 163,
   "metadata": {},
   "outputs": [
    {
     "data": {
      "text/plain": [
       "{'gpa': '3.8', 'major': 'chemistry', 'name': 'Jane Jones'}"
      ]
     },
     "execution_count": 163,
     "metadata": {},
     "output_type": "execute_result"
    }
   ],
   "source": [
    "def get_gpa(who):\n",
    "    return who['gpa']\n",
    "\n",
    "max_by_key(students, get_gpa)"
   ]
  },
  {
   "cell_type": "markdown",
   "metadata": {},
   "source": [
    "## Key Functions in Python"
   ]
  },
  {
   "cell_type": "code",
   "execution_count": 164,
   "metadata": {},
   "outputs": [
    {
     "data": {
      "text/plain": [
       "'30'"
      ]
     },
     "execution_count": 164,
     "metadata": {},
     "output_type": "execute_result"
    }
   ],
   "source": [
    "max(nums, key=int)"
   ]
  },
  {
   "cell_type": "code",
   "execution_count": 165,
   "metadata": {},
   "outputs": [
    {
     "data": {
      "text/plain": [
       "'3'"
      ]
     },
     "execution_count": 165,
     "metadata": {},
     "output_type": "execute_result"
    }
   ],
   "source": [
    "min(nums, key=int)"
   ]
  },
  {
   "cell_type": "code",
   "execution_count": 166,
   "metadata": {},
   "outputs": [
    {
     "data": {
      "text/plain": [
       "['3', '7', '12', '14', '30']"
      ]
     },
     "execution_count": 166,
     "metadata": {},
     "output_type": "execute_result"
    }
   ],
   "source": [
    "sorted(nums, key=int)"
   ]
  },
  {
   "cell_type": "code",
   "execution_count": 167,
   "metadata": {},
   "outputs": [
    {
     "data": {
      "text/plain": [
       "[{'gpa': '3.4', 'major': 'literature', 'name': 'Zoe Fox'},\n",
       " {'gpa': '3.7', 'major': 'physics', 'name': 'Joe Smith'},\n",
       " {'gpa': '3.8', 'major': 'chemistry', 'name': 'Jane Jones'}]"
      ]
     },
     "execution_count": 167,
     "metadata": {},
     "output_type": "execute_result"
    }
   ],
   "source": [
    "sorted(students, key=get_gpa)"
   ]
  },
  {
   "cell_type": "code",
   "execution_count": 169,
   "metadata": {},
   "outputs": [
    {
     "data": {
      "text/plain": [
       "[{'gpa': '3.4', 'major': 'literature', 'name': 'Zoe Fox'},\n",
       " {'gpa': '3.7', 'major': 'physics', 'name': 'Joe Smith'},\n",
       " {'gpa': '3.8', 'major': 'chemistry', 'name': 'Jane Jones'}]"
      ]
     },
     "execution_count": 169,
     "metadata": {},
     "output_type": "execute_result"
    }
   ],
   "source": [
    "from operator import itemgetter\n",
    "sorted(students, key=itemgetter('gpa'))"
   ]
  },
  {
   "cell_type": "code",
   "execution_count": 170,
   "metadata": {},
   "outputs": [
    {
     "data": {
      "text/plain": [
       "[{'gpa': '3.8', 'major': 'chemistry', 'name': 'Jane Jones'},\n",
       " {'gpa': '3.4', 'major': 'literature', 'name': 'Zoe Fox'},\n",
       " {'gpa': '3.7', 'major': 'physics', 'name': 'Joe Smith'}]"
      ]
     },
     "execution_count": 170,
     "metadata": {},
     "output_type": "execute_result"
    }
   ],
   "source": [
    "sorted(students, key=itemgetter('major'))"
   ]
  },
  {
   "cell_type": "code",
   "execution_count": 174,
   "metadata": {},
   "outputs": [],
   "source": [
    "get_gpa = itemgetter('gpa')"
   ]
  },
  {
   "cell_type": "code",
   "execution_count": 175,
   "metadata": {},
   "outputs": [
    {
     "data": {
      "text/plain": [
       "[('3.8', 'chemistry', 'Jane Jones'),\n",
       " ('3.4', 'literature', 'Zoe Fox'),\n",
       " ('3.7', 'physics', 'Joe Smith')]"
      ]
     },
     "execution_count": 175,
     "metadata": {},
     "output_type": "execute_result"
    }
   ],
   "source": [
    "student_rows = [\n",
    "    ('3.8', 'chemistry', 'Jane Jones'),\n",
    "    ('3.4', 'literature', 'Zoe Fox'),\n",
    "    ('3.7', 'physics', 'Joe Smith')\n",
    "]\n",
    "sorted(student_rows, key=itemgetter(1))"
   ]
  },
  {
   "cell_type": "code",
   "execution_count": 176,
   "metadata": {},
   "outputs": [],
   "source": [
    "class Student:\n",
    "    def __init__(self, name, major, gpa):\n",
    "        self.name = name\n",
    "        self.major = major\n",
    "        self.gpa = gpa\n",
    "    def __repr__(self):\n",
    "        return '{}: {}'.format(self.name, self.gpa)"
   ]
  },
  {
   "cell_type": "code",
   "execution_count": 187,
   "metadata": {},
   "outputs": [],
   "source": [
    "student_rows = [\n",
    "    ('Jane Jones', 'chemistry', 3.8),\n",
    "    ('Zoe Fox', 'literature', 3.4),\n",
    "    ('Joe Smith', 'physics', 3.7)\n",
    "]\n",
    "\n",
    "student_objs =[Student(*student) for student in student_rows] "
   ]
  },
  {
   "cell_type": "code",
   "execution_count": 188,
   "metadata": {},
   "outputs": [
    {
     "data": {
      "text/plain": [
       "3.8"
      ]
     },
     "execution_count": 188,
     "metadata": {},
     "output_type": "execute_result"
    }
   ],
   "source": [
    "student_objs[0].gpa"
   ]
  },
  {
   "cell_type": "code",
   "execution_count": 191,
   "metadata": {},
   "outputs": [
    {
     "data": {
      "text/plain": [
       "[Zoe Fox: 3.4, Joe Smith: 3.7, Jane Jones: 3.8]"
      ]
     },
     "execution_count": 191,
     "metadata": {},
     "output_type": "execute_result"
    }
   ],
   "source": [
    "from operator import attrgetter\n",
    "sorted(student_objs, \n",
    "       key=attrgetter('gpa'))"
   ]
  },
  {
   "cell_type": "code",
   "execution_count": null,
   "metadata": {},
   "outputs": [],
   "source": []
  }
 ],
 "metadata": {
  "kernelspec": {
   "display_name": "Python 3",
   "language": "python",
   "name": "python3"
  },
  "language_info": {
   "codemirror_mode": {
    "name": "ipython",
    "version": 3
   },
   "file_extension": ".py",
   "mimetype": "text/x-python",
   "name": "python",
   "nbconvert_exporter": "python",
   "pygments_lexer": "ipython3",
   "version": "3.7.7"
  },
  "toc": {
   "base_numbering": "4",
   "nav_menu": {},
   "number_sections": true,
   "sideBar": true,
   "skip_h1_title": false,
   "title_cell": "Table of Contents",
   "title_sidebar": "Contents",
   "toc_cell": false,
   "toc_position": {},
   "toc_section_display": true,
   "toc_window_display": false
  }
 },
 "nbformat": 4,
 "nbformat_minor": 4
}
