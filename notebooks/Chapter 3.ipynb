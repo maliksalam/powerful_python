{
 "cells": [
  {
   "cell_type": "markdown",
   "metadata": {},
   "source": [
    "# Creating Collections with Comprehensions"
   ]
  },
  {
   "cell_type": "code",
   "execution_count": 1,
   "metadata": {},
   "outputs": [
    {
     "data": {
      "text/plain": [
       "[0, 1, 4, 9, 16, 25]"
      ]
     },
     "execution_count": 1,
     "metadata": {},
     "output_type": "execute_result"
    }
   ],
   "source": [
    "[n*n for n in range(6)]"
   ]
  },
  {
   "cell_type": "code",
   "execution_count": 2,
   "metadata": {},
   "outputs": [
    {
     "data": {
      "text/plain": [
       "[0, 1, 4, 9, 16, 25]"
      ]
     },
     "execution_count": 2,
     "metadata": {},
     "output_type": "execute_result"
    }
   ],
   "source": [
    "squares = []\n",
    "for n in range(6):\n",
    "    squares.append(n**2)\n",
    "squares"
   ]
  },
  {
   "cell_type": "code",
   "execution_count": 5,
   "metadata": {},
   "outputs": [
    {
     "data": {
      "text/plain": [
       "{0: '', 1: 'x', 2: 'xx', 3: 'xxx', 4: 'xxxx'}"
      ]
     },
     "execution_count": 5,
     "metadata": {},
     "output_type": "execute_result"
    }
   ],
   "source": [
    "{n: \"x\" * n for n in range(5)}"
   ]
  },
  {
   "cell_type": "code",
   "execution_count": 6,
   "metadata": {},
   "outputs": [
    {
     "data": {
      "text/plain": [
       "{0: '', 1: 'x', 2: 'xx', 3: 'xxx', 4: 'xxxx'}"
      ]
     },
     "execution_count": 6,
     "metadata": {},
     "output_type": "execute_result"
    }
   ],
   "source": [
    "blocks = dict()\n",
    "for n in range(5):\n",
    "    blocks[n] = \"x\"*n\n",
    "blocks"
   ]
  },
  {
   "cell_type": "markdown",
   "metadata": {},
   "source": [
    "## List Comprehensions"
   ]
  },
  {
   "cell_type": "code",
   "execution_count": 12,
   "metadata": {},
   "outputs": [
    {
     "data": {
      "text/plain": [
       "list"
      ]
     },
     "execution_count": 12,
     "metadata": {},
     "output_type": "execute_result"
    }
   ],
   "source": [
    "squares = [n*n for n in range(6)]\n",
    "type(squares)"
   ]
  },
  {
   "cell_type": "code",
   "execution_count": 13,
   "metadata": {},
   "outputs": [
    {
     "name": "stdout",
     "output_type": "stream",
     "text": [
      "[0, 1, 4, 9, 16, 25]\n"
     ]
    }
   ],
   "source": [
    "print(squares)"
   ]
  },
  {
   "cell_type": "code",
   "execution_count": 18,
   "metadata": {},
   "outputs": [
    {
     "data": {
      "text/plain": [
       "[23, 27, 31, 35, 39]"
      ]
     },
     "execution_count": 18,
     "metadata": {},
     "output_type": "execute_result"
    }
   ],
   "source": [
    "pets = ['dog', 'parakeet', 'cat', 'llama']\n",
    "numbers = [9, -1, -4, 20, 11, -3]\n",
    "\n",
    "def repeat(s):\n",
    "    return s + s\n",
    "\n",
    "[2*m+3 for m in range(10, 20, 2)]"
   ]
  },
  {
   "cell_type": "code",
   "execution_count": 15,
   "metadata": {},
   "outputs": [
    {
     "data": {
      "text/plain": [
       "[9, 1, 4, 20, 11, 3]"
      ]
     },
     "execution_count": 15,
     "metadata": {},
     "output_type": "execute_result"
    }
   ],
   "source": [
    "[abs(num) for num in numbers]"
   ]
  },
  {
   "cell_type": "code",
   "execution_count": 16,
   "metadata": {},
   "outputs": [
    {
     "data": {
      "text/plain": [
       "[1, 11, 14, -10, -1, 13]"
      ]
     },
     "execution_count": 16,
     "metadata": {},
     "output_type": "execute_result"
    }
   ],
   "source": [
    "[10 - x for x in numbers]"
   ]
  },
  {
   "cell_type": "code",
   "execution_count": 19,
   "metadata": {},
   "outputs": [
    {
     "data": {
      "text/plain": [
       "['dog', 'parakeet', 'cat', 'llama']"
      ]
     },
     "execution_count": 19,
     "metadata": {},
     "output_type": "execute_result"
    }
   ],
   "source": [
    "[pet.lower() for pet in pets]"
   ]
  },
  {
   "cell_type": "code",
   "execution_count": 20,
   "metadata": {},
   "outputs": [
    {
     "data": {
      "text/plain": [
       "['The cat', 'The dog', 'The llama', 'The parakeet']"
      ]
     },
     "execution_count": 20,
     "metadata": {},
     "output_type": "execute_result"
    }
   ],
   "source": [
    "[\"The \" + pet for pet in sorted(pets)]"
   ]
  },
  {
   "cell_type": "code",
   "execution_count": 21,
   "metadata": {},
   "outputs": [
    {
     "data": {
      "text/plain": [
       "['dogdog', 'parakeetparakeet', 'catcat', 'llamallama']"
      ]
     },
     "execution_count": 21,
     "metadata": {},
     "output_type": "execute_result"
    }
   ],
   "source": [
    "[repeat(pet) for pet in pets]"
   ]
  },
  {
   "cell_type": "code",
   "execution_count": 22,
   "metadata": {},
   "outputs": [
    {
     "data": {
      "text/plain": [
       "[-8, 40]"
      ]
     },
     "execution_count": 22,
     "metadata": {},
     "output_type": "execute_result"
    }
   ],
   "source": [
    "def is_palindrome(s):\n",
    "    return s == s[::-1]\n",
    "\n",
    "words = ['bib', 'bias', 'dad', 'eye', 'deed', 'tooth']\n",
    "\n",
    "[n*2 for n in numbers if n % 2 == 0]"
   ]
  },
  {
   "cell_type": "code",
   "execution_count": 27,
   "metadata": {},
   "outputs": [
    {
     "data": {
      "text/plain": [
       "['DOG', 'CAT']"
      ]
     },
     "execution_count": 27,
     "metadata": {},
     "output_type": "execute_result"
    }
   ],
   "source": [
    "[pet.upper() for pet in pets if len(pet) == 3]"
   ]
  },
  {
   "cell_type": "code",
   "execution_count": 28,
   "metadata": {},
   "outputs": [
    {
     "data": {
      "text/plain": [
       "[9, 20, 11]"
      ]
     },
     "execution_count": 28,
     "metadata": {},
     "output_type": "execute_result"
    }
   ],
   "source": [
    "[n for n in numbers if n > 0]"
   ]
  },
  {
   "cell_type": "code",
   "execution_count": 29,
   "metadata": {},
   "outputs": [
    {
     "data": {
      "text/plain": [
       "['bib', 'dad', 'eye', 'deed']"
      ]
     },
     "execution_count": 29,
     "metadata": {},
     "output_type": "execute_result"
    }
   ],
   "source": [
    "[word for word in words if is_palindrome(word)]"
   ]
  },
  {
   "cell_type": "markdown",
   "metadata": {},
   "source": [
    "## Formatting For Readability (And More)"
   ]
  },
  {
   "cell_type": "code",
   "execution_count": 30,
   "metadata": {},
   "outputs": [],
   "source": [
    "def double_short_words(words):\n",
    "    return [word + word\n",
    "            for word in words\n",
    "            if len(word) <5]\n",
    "\n",
    "# or\n",
    "def double_short_words(words):\n",
    "    return [\n",
    "        word + word\n",
    "        for word in words\n",
    "        if len(word) <5 \n",
    "    ]\n"
   ]
  },
  {
   "cell_type": "markdown",
   "metadata": {},
   "source": [
    "## Multiple Sources and Filters"
   ]
  },
  {
   "cell_type": "code",
   "execution_count": 31,
   "metadata": {},
   "outputs": [
    {
     "data": {
      "text/plain": [
       "['orange bike',\n",
       " 'orange basketball',\n",
       " 'orange skateboard',\n",
       " 'orange doll',\n",
       " 'purple bike',\n",
       " 'purple basketball',\n",
       " 'purple skateboard',\n",
       " 'purple doll',\n",
       " 'pink bike',\n",
       " 'pink basketball',\n",
       " 'pink skateboard',\n",
       " 'pink doll']"
      ]
     },
     "execution_count": 31,
     "metadata": {},
     "output_type": "execute_result"
    }
   ],
   "source": [
    "colors = ['orange', 'purple', 'pink']\n",
    "toys = ['bike', 'basketball', 'skateboard', 'doll']\n",
    "\n",
    "[\n",
    "    color + ' ' + toy\n",
    "    for color in colors\n",
    "    for toy in toys\n",
    "]"
   ]
  },
  {
   "cell_type": "code",
   "execution_count": 35,
   "metadata": {},
   "outputs": [
    {
     "data": {
      "text/plain": [
       "[1.0, 2.0, 3.0, 4.0, 5.0, 6.0, 4.0, 7.0, 10.0, -5.0, -1.0, 3.0, 7.0]"
      ]
     },
     "execution_count": 35,
     "metadata": {},
     "output_type": "execute_result"
    }
   ],
   "source": [
    "ranges = [range(1, 7), range(4, 12, 3), range(-5, 9, 4)]\n",
    "[\n",
    "    float(num)\n",
    "    for subrange in ranges\n",
    "    for num in subrange\n",
    "]"
   ]
  },
  {
   "cell_type": "code",
   "execution_count": 33,
   "metadata": {},
   "outputs": [
    {
     "data": {
      "text/plain": [
       "[range(1, 7), range(4, 12, 3), range(-5, 9, 4)]"
      ]
     },
     "execution_count": 33,
     "metadata": {},
     "output_type": "execute_result"
    }
   ],
   "source": [
    "ranges"
   ]
  },
  {
   "cell_type": "code",
   "execution_count": 37,
   "metadata": {},
   "outputs": [
    {
     "data": {
      "text/plain": [
       "[9, 17]"
      ]
     },
     "execution_count": 37,
     "metadata": {},
     "output_type": "execute_result"
    }
   ],
   "source": [
    "numbers = [9, -1, -4, 20, 17, -3]\n",
    "odd_postives = [\n",
    "    num for num in numbers\n",
    "    if num > 0\n",
    "    if num % 2 == 1\n",
    "]\n",
    "odd_postives"
   ]
  },
  {
   "cell_type": "code",
   "execution_count": 45,
   "metadata": {},
   "outputs": [
    {
     "data": {
      "text/plain": [
       "[9, -4, 20, -3]"
      ]
     },
     "execution_count": 45,
     "metadata": {},
     "output_type": "execute_result"
    }
   ],
   "source": [
    "numbers = [9, -1, -4, 20, 11, -3]\n",
    "def is_mult_of_2_or_3(num):\n",
    "    return (num % 2 == 0) or (num % 3 == 0)\n",
    "\n",
    "[\n",
    "    num for num in numbers\n",
    "    if is_mult_of_2_or_3(num)\n",
    "]"
   ]
  },
  {
   "cell_type": "code",
   "execution_count": 55,
   "metadata": {},
   "outputs": [
    {
     "data": {
      "text/plain": [
       "[9, -4, 20, -3]"
      ]
     },
     "execution_count": 55,
     "metadata": {},
     "output_type": "execute_result"
    }
   ],
   "source": [
    "[\n",
    "    num for num in numbers\n",
    "    if num % 2 == 0 or num % 3 == 0\n",
    "]"
   ]
  },
  {
   "cell_type": "code",
   "execution_count": 62,
   "metadata": {},
   "outputs": [
    {
     "data": {
      "text/plain": [
       "[(0.2, 27.5, 7.1),\n",
       " (0.2, 27.5, 9.5),\n",
       " (0.2, 13.4, 7.1),\n",
       " (0.2, 13.4, 9.5),\n",
       " (0.5, 13.4, 7.1),\n",
       " (0.5, 13.4, 9.5)]"
      ]
     },
     "execution_count": 62,
     "metadata": {},
     "output_type": "execute_result"
    }
   ],
   "source": [
    "weights = [0.2, 0.5, 0.9]\n",
    "values = [27.5, 13.4]\n",
    "offsets = [4.3, 7.1, 9.5]\n",
    "[\n",
    "    (weight, value, offset)\n",
    "    for weight in weights\n",
    "    for value in values\n",
    "    for offset in offsets\n",
    "    if offset > 5.0\n",
    "    if weight * value < offset\n",
    "]"
   ]
  },
  {
   "cell_type": "markdown",
   "metadata": {},
   "source": [
    "## Comprehensions and Generators"
   ]
  },
  {
   "cell_type": "code",
   "execution_count": 63,
   "metadata": {},
   "outputs": [
    {
     "data": {
      "text/plain": [
       "list"
      ]
     },
     "execution_count": 63,
     "metadata": {},
     "output_type": "execute_result"
    }
   ],
   "source": [
    "type(squares)"
   ]
  },
  {
   "cell_type": "code",
   "execution_count": 65,
   "metadata": {},
   "outputs": [
    {
     "data": {
      "text/plain": [
       "generator"
      ]
     },
     "execution_count": 65,
     "metadata": {},
     "output_type": "execute_result"
    }
   ],
   "source": [
    "NUM_SQUARES = 10*1000*1000\n",
    "generated_squares = (\n",
    "        n*n for n in range(NUM_SQUARES)\n",
    ")\n",
    "type(generated_squares)"
   ]
  },
  {
   "cell_type": "code",
   "execution_count": 67,
   "metadata": {},
   "outputs": [],
   "source": [
    "class User:\n",
    "    def __init__(self, email=None, is_active=None):\n",
    "        self.email = email\n",
    "        self.is_active = is_active\n",
    "fred = User(email='fred@a.com', is_active=True)\n",
    "sandy = User(email='sady@f.com', is_active=True)\n",
    "tim = User(email='tim@d.com', is_active=True)\n",
    "all_users = [fred, sandy, tim]"
   ]
  },
  {
   "cell_type": "code",
   "execution_count": 69,
   "metadata": {},
   "outputs": [
    {
     "data": {
      "text/plain": [
       "['fred@a.com', 'sady@f.com', 'tim@d.com']"
      ]
     },
     "execution_count": 69,
     "metadata": {},
     "output_type": "execute_result"
    }
   ],
   "source": [
    "sorted((user.email \n",
    "        for user in all_users \n",
    "        if user.is_active))"
   ]
  },
  {
   "cell_type": "code",
   "execution_count": 70,
   "metadata": {},
   "outputs": [
    {
     "data": {
      "text/plain": [
       "['fred@a.com', 'sady@f.com', 'tim@d.com']"
      ]
     },
     "execution_count": 70,
     "metadata": {},
     "output_type": "execute_result"
    }
   ],
   "source": [
    "sorted(\n",
    "    user.email \n",
    "    for user in all_users \n",
    "    if user.is_active\n",
    ")"
   ]
  },
  {
   "cell_type": "code",
   "execution_count": 73,
   "metadata": {},
   "outputs": [
    {
     "data": {
      "text/plain": [
       "['tim@d.com', 'sady@f.com', 'fred@a.com']"
      ]
     },
     "execution_count": 73,
     "metadata": {},
     "output_type": "execute_result"
    }
   ],
   "source": [
    "sorted(\n",
    "    (user.email \n",
    "    for user in all_users \n",
    "    if user.is_active),\n",
    "    reverse=True\n",
    ")"
   ]
  },
  {
   "cell_type": "code",
   "execution_count": 75,
   "metadata": {},
   "outputs": [
    {
     "data": {
      "text/plain": [
       "['tim@d.com', 'sady@f.com', 'fred@a.com']"
      ]
     },
     "execution_count": 75,
     "metadata": {},
     "output_type": "execute_result"
    }
   ],
   "source": [
    "active_emails = (\n",
    "    user.email \n",
    "    for user in all_users \n",
    "    if user.is_active\n",
    ")\n",
    "sorted(active_emails, reverse=True)"
   ]
  },
  {
   "cell_type": "markdown",
   "metadata": {},
   "source": [
    "## Dictionaries, Sets, and Tuples"
   ]
  },
  {
   "cell_type": "code",
   "execution_count": 81,
   "metadata": {},
   "outputs": [],
   "source": [
    "class Student:\n",
    "    def __init__(self, name, gpa, major):\n",
    "        self.name = name\n",
    "        self.gpa = gpa\n",
    "        self.major = major\n",
    "\n",
    "jim = Student(name='Jim Smith', gpa=3.6, major='Computer Science')\n",
    "ryan = Student(name='Ryan Spencer', gpa=3.1, major='Economics')\n",
    "penny = Student(name='Penny Gilmore', gpa=3.9, major='Computer Science')\n",
    "alisha = Student(name='Alisha Jones', gpa=2.5, major='Economics')\n",
    "todd = Student(name='Todd Reynolds', gpa=3.4, major='Basket Weaving')\n",
    "students = [jim, ryan, penny, alisha, todd]"
   ]
  },
  {
   "cell_type": "code",
   "execution_count": 82,
   "metadata": {},
   "outputs": [
    {
     "data": {
      "text/plain": [
       "{'Jim Smith': 3.6,\n",
       " 'Ryan Spencer': 3.1,\n",
       " 'Penny Gilmore': 3.9,\n",
       " 'Alisha Jones': 2.5,\n",
       " 'Todd Reynolds': 3.4}"
      ]
     },
     "execution_count": 82,
     "metadata": {},
     "output_type": "execute_result"
    }
   ],
   "source": [
    "{student.name: student.gpa for student in students}"
   ]
  },
  {
   "cell_type": "code",
   "execution_count": 83,
   "metadata": {},
   "outputs": [
    {
     "data": {
      "text/plain": [
       "{'Smith, Jim': 3.6, 'Gilmore, Penny': 3.9}"
      ]
     },
     "execution_count": 83,
     "metadata": {},
     "output_type": "execute_result"
    }
   ],
   "source": [
    "def invert_name(name):\n",
    "    first, last = name.split(' ', 1)\n",
    "    return last + \", \" + first\n",
    "{ \n",
    "    invert_name(student.name): student.gpa\n",
    "    for student in students\n",
    "    if student.gpa > 3.5\n",
    "}"
   ]
  },
  {
   "cell_type": "code",
   "execution_count": 84,
   "metadata": {},
   "outputs": [
    {
     "data": {
      "text/plain": [
       "['Computer Science',\n",
       " 'Economics',\n",
       " 'Computer Science',\n",
       " 'Economics',\n",
       " 'Basket Weaving']"
      ]
     },
     "execution_count": 84,
     "metadata": {},
     "output_type": "execute_result"
    }
   ],
   "source": [
    "[student.major for student in students]"
   ]
  },
  {
   "cell_type": "code",
   "execution_count": 85,
   "metadata": {},
   "outputs": [
    {
     "data": {
      "text/plain": [
       "{'Basket Weaving', 'Computer Science', 'Economics'}"
      ]
     },
     "execution_count": 85,
     "metadata": {},
     "output_type": "execute_result"
    }
   ],
   "source": [
    "{student.major for student in students}"
   ]
  },
  {
   "cell_type": "code",
   "execution_count": 86,
   "metadata": {},
   "outputs": [
    {
     "data": {
      "text/plain": [
       "{'Basket Weaving', 'Computer Science', 'Economics'}"
      ]
     },
     "execution_count": 86,
     "metadata": {},
     "output_type": "execute_result"
    }
   ],
   "source": [
    "set(student.major for student in students)"
   ]
  },
  {
   "cell_type": "code",
   "execution_count": 91,
   "metadata": {},
   "outputs": [
    {
     "data": {
      "text/plain": [
       "(3.6, 3.9)"
      ]
     },
     "execution_count": 91,
     "metadata": {},
     "output_type": "execute_result"
    }
   ],
   "source": [
    "tuple(\n",
    "    student.gpa for student in students\n",
    "    if student.major == 'Computer Science'\n",
    ")"
   ]
  },
  {
   "cell_type": "markdown",
   "metadata": {},
   "source": [
    "## Limits of Comprehensions"
   ]
  },
  {
   "cell_type": "code",
   "execution_count": 113,
   "metadata": {},
   "outputs": [],
   "source": [
    "def list2dict(flat_list):\n",
    "    assert len(flat_list) % 2 == 0, \"Input must be flat list of key-value pairs\"\n",
    "    d = {}\n",
    "    for i in range(0, len(flat_list), 2):\n",
    "        key, value = flat_list[i], flat_list[i+1]\n",
    "        d[key] = value\n",
    "    return d"
   ]
  },
  {
   "cell_type": "code",
   "execution_count": 114,
   "metadata": {},
   "outputs": [
    {
     "data": {
      "text/plain": [
       "{'orange': 0.7,\n",
       " 'banana': 0.86,\n",
       " 'cantaloupe': 0.63,\n",
       " 'bok choy': 1.56,\n",
       " 'coconuts': 1.06}"
      ]
     },
     "execution_count": 114,
     "metadata": {},
     "output_type": "execute_result"
    }
   ],
   "source": [
    "prices_flat_list = [\n",
    "    'orange', 0.70,\n",
    "    'banana', 0.86,\n",
    "    'cantaloupe', 0.63,\n",
    "    'bok choy', 1.56,\n",
    "    'coconuts', 1.06,\n",
    "]\n",
    "list2dict(prices_flat_list)"
   ]
  },
  {
   "cell_type": "code",
   "execution_count": 96,
   "metadata": {},
   "outputs": [
    {
     "data": {
      "text/plain": [
       "range(0, 5)"
      ]
     },
     "execution_count": 96,
     "metadata": {},
     "output_type": "execute_result"
    }
   ],
   "source": [
    "range(len(price_flat_list[::2]))"
   ]
  },
  {
   "cell_type": "code",
   "execution_count": 125,
   "metadata": {},
   "outputs": [],
   "source": [
    "from collections import defaultdict\n",
    "\n",
    "def group_by_first(string_list):\n",
    "    d = {}\n",
    "    for string in string_list:\n",
    "        first_letter = string[0].upper()\n",
    "        if d.get(first_letter):\n",
    "            d[first_letter].append(string)\n",
    "        else:\n",
    "            d[first_letter] = [string]\n",
    "    return d"
   ]
  },
  {
   "cell_type": "code",
   "execution_count": 126,
   "metadata": {},
   "outputs": [
    {
     "data": {
      "text/plain": [
       "{'J': ['Joe', 'Jim', 'jimmy'],\n",
       " 'T': ['Todd', 'Tiffany'],\n",
       " 'Z': ['Zelma'],\n",
       " 'G': ['Gerry', 'Gina']}"
      ]
     },
     "execution_count": 126,
     "metadata": {},
     "output_type": "execute_result"
    }
   ],
   "source": [
    "names = ['Joe', 'Jim', 'Todd', 'Tiffany',\n",
    "         'Zelma', 'Gerry', 'Gina', 'jimmy']\n",
    "grouped_names = group_by_first(names)\n",
    "grouped_names"
   ]
  },
  {
   "cell_type": "code",
   "execution_count": null,
   "metadata": {},
   "outputs": [],
   "source": []
  }
 ],
 "metadata": {
  "kernelspec": {
   "display_name": "Python 3",
   "language": "python",
   "name": "python3"
  },
  "language_info": {
   "codemirror_mode": {
    "name": "ipython",
    "version": 3
   },
   "file_extension": ".py",
   "mimetype": "text/x-python",
   "name": "python",
   "nbconvert_exporter": "python",
   "pygments_lexer": "ipython3",
   "version": "3.7.7"
  },
  "toc": {
   "base_numbering": "3",
   "nav_menu": {},
   "number_sections": true,
   "sideBar": true,
   "skip_h1_title": false,
   "title_cell": "Table of Contents",
   "title_sidebar": "Contents",
   "toc_cell": false,
   "toc_position": {},
   "toc_section_display": true,
   "toc_window_display": true
  }
 },
 "nbformat": 4,
 "nbformat_minor": 4
}
